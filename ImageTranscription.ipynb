{
 "cells": [
  {
   "cell_type": "markdown",
   "id": "36526cc4-5dad-43bd-89a6-82c339f8ecee",
   "metadata": {},
   "source": [
    "# Image Transcription using CLIP + GPT\n",
    "We do image transcription by alternating between:\n",
    "- letting GPT suggest a number of potential next words\n",
    "- let CLIP decide which of the suggested texts is the best"
   ]
  },
  {
   "cell_type": "code",
   "execution_count": 2,
   "id": "5d9a8be7-c2fc-402f-8618-34856b89eee2",
   "metadata": {},
   "outputs": [
    {
     "name": "stderr",
     "output_type": "stream",
     "text": [
      "ftfy or spacy is not installed using BERT BasicTokenizer instead of ftfy.\n"
     ]
    }
   ],
   "source": [
    "from transformers import pipeline, set_seed\n",
    "from PIL import Image\n",
    "import requests\n",
    "from transformers import CLIPProcessor, CLIPModel\n",
    "import numpy as np\n",
    "\n",
    "\n",
    "\n",
    "gpt2 = pipeline('text-generation', model='gpt2')\n",
    "set_seed(42)\n",
    "clip_model = CLIPModel.from_pretrained(\"openai/clip-vit-base-patch32\")\n",
    "clip_processor = CLIPProcessor.from_pretrained(\"openai/clip-vit-base-patch32\")\n",
    "\n"
   ]
  },
  {
   "cell_type": "code",
   "execution_count": 3,
   "id": "127941a1-0d8a-4ba6-af1f-c98295b95632",
   "metadata": {},
   "outputs": [],
   "source": [
    "# Image input\n",
    "url = \"http://images.cocodataset.org/val2017/000000039769.jpg\"\n",
    "image = Image.open(requests.get(url, stream=True).raw)"
   ]
  },
  {
   "cell_type": "code",
   "execution_count": 4,
   "id": "b1d2cdc6-cb5a-45bb-a966-e0acf13bfc36",
   "metadata": {},
   "outputs": [],
   "source": [
    "transcription = \"This image shows a\""
   ]
  },
  {
   "cell_type": "code",
   "execution_count": null,
   "id": "069d25b9-c7ae-462b-b320-a84b7f782d3a",
   "metadata": {},
   "outputs": [
    {
     "name": "stderr",
     "output_type": "stream",
     "text": [
      "Setting `pad_token_id` to `eos_token_id`:50256 for open-end generation.\n",
      "Setting `pad_token_id` to `eos_token_id`:50256 for open-end generation.\n"
     ]
    },
    {
     "name": "stdout",
     "output_type": "stream",
     "text": [
      "This image shows a female and male-shaped man\n"
     ]
    },
    {
     "name": "stderr",
     "output_type": "stream",
     "text": [
      "Setting `pad_token_id` to `eos_token_id`:50256 for open-end generation.\n"
     ]
    },
    {
     "name": "stdout",
     "output_type": "stream",
     "text": [
      "This image shows a pair of two-seater\n"
     ]
    },
    {
     "name": "stderr",
     "output_type": "stream",
     "text": [
      "Setting `pad_token_id` to `eos_token_id`:50256 for open-end generation.\n"
     ]
    },
    {
     "name": "stdout",
     "output_type": "stream",
     "text": [
      "This image shows a group of three cats, in\n"
     ]
    },
    {
     "name": "stderr",
     "output_type": "stream",
     "text": [
      "Setting `pad_token_id` to `eos_token_id`:50256 for open-end generation.\n"
     ]
    },
    {
     "name": "stdout",
     "output_type": "stream",
     "text": [
      "This image shows a young male and his sister,\n"
     ]
    },
    {
     "name": "stderr",
     "output_type": "stream",
     "text": [
      "Setting `pad_token_id` to `eos_token_id`:50256 for open-end generation.\n"
     ]
    },
    {
     "name": "stdout",
     "output_type": "stream",
     "text": [
      "This image shows a typical home for a female cat\n"
     ]
    },
    {
     "name": "stderr",
     "output_type": "stream",
     "text": [
      "Setting `pad_token_id` to `eos_token_id`:50256 for open-end generation.\n"
     ]
    },
    {
     "name": "stdout",
     "output_type": "stream",
     "text": [
      "This image shows a couple of them sleeping on a\n"
     ]
    },
    {
     "name": "stderr",
     "output_type": "stream",
     "text": [
      "Setting `pad_token_id` to `eos_token_id`:50256 for open-end generation.\n"
     ]
    },
    {
     "name": "stdout",
     "output_type": "stream",
     "text": [
      "This image shows a pair of twins between two pairs\n"
     ]
    },
    {
     "name": "stderr",
     "output_type": "stream",
     "text": [
      "Setting `pad_token_id` to `eos_token_id`:50256 for open-end generation.\n"
     ]
    },
    {
     "name": "stdout",
     "output_type": "stream",
     "text": [
      "This image shows a female and her sister wearing an\n"
     ]
    },
    {
     "name": "stderr",
     "output_type": "stream",
     "text": [
      "Setting `pad_token_id` to `eos_token_id`:50256 for open-end generation.\n"
     ]
    },
    {
     "name": "stdout",
     "output_type": "stream",
     "text": [
      "This image shows a pair of munchkins.\n"
     ]
    },
    {
     "name": "stderr",
     "output_type": "stream",
     "text": [
      "Setting `pad_token_id` to `eos_token_id`:50256 for open-end generation.\n"
     ]
    },
    {
     "name": "stdout",
     "output_type": "stream",
     "text": [
      "This image shows a female with a male. The\n",
      "This image shows a typical home for a female cat\n"
     ]
    },
    {
     "name": "stderr",
     "output_type": "stream",
     "text": [
      "Setting `pad_token_id` to `eos_token_id`:50256 for open-end generation.\n"
     ]
    },
    {
     "name": "stdout",
     "output_type": "stream",
     "text": [
      "This image shows a typical home for a female cat and a male cat with its back legs up by\n"
     ]
    },
    {
     "name": "stderr",
     "output_type": "stream",
     "text": [
      "Setting `pad_token_id` to `eos_token_id`:50256 for open-end generation.\n"
     ]
    },
    {
     "name": "stdout",
     "output_type": "stream",
     "text": [
      "This image shows a typical home for a female cat (left) and her cat (right).\n",
      "\n"
     ]
    },
    {
     "name": "stderr",
     "output_type": "stream",
     "text": [
      "Setting `pad_token_id` to `eos_token_id`:50256 for open-end generation.\n"
     ]
    },
    {
     "name": "stdout",
     "output_type": "stream",
     "text": [
      "This image shows a typical home for a female cat (left photo): one with a \"female\"\n"
     ]
    },
    {
     "name": "stderr",
     "output_type": "stream",
     "text": [
      "Setting `pad_token_id` to `eos_token_id`:50256 for open-end generation.\n"
     ]
    },
    {
     "name": "stdout",
     "output_type": "stream",
     "text": [
      "This image shows a typical home for a female cat. From left to right: Amy, her cat\n"
     ]
    },
    {
     "name": "stderr",
     "output_type": "stream",
     "text": [
      "Setting `pad_token_id` to `eos_token_id`:50256 for open-end generation.\n"
     ]
    },
    {
     "name": "stdout",
     "output_type": "stream",
     "text": [
      "This image shows a typical home for a female cat and a male cat sitting together on her stomach.\n"
     ]
    },
    {
     "name": "stderr",
     "output_type": "stream",
     "text": [
      "Setting `pad_token_id` to `eos_token_id`:50256 for open-end generation.\n"
     ]
    },
    {
     "name": "stdout",
     "output_type": "stream",
     "text": [
      "This image shows a typical home for a female cat (left). She looks different than a male cat\n"
     ]
    },
    {
     "name": "stderr",
     "output_type": "stream",
     "text": [
      "Setting `pad_token_id` to `eos_token_id`:50256 for open-end generation.\n"
     ]
    },
    {
     "name": "stdout",
     "output_type": "stream",
     "text": [
      "This image shows a typical home for a female cat. On the right, her mother (left)\n"
     ]
    },
    {
     "name": "stderr",
     "output_type": "stream",
     "text": [
      "Setting `pad_token_id` to `eos_token_id`:50256 for open-end generation.\n"
     ]
    },
    {
     "name": "stdout",
     "output_type": "stream",
     "text": [
      "This image shows a typical home for a female cat—the smaller of the two females (left)\n"
     ]
    },
    {
     "name": "stderr",
     "output_type": "stream",
     "text": [
      "Setting `pad_token_id` to `eos_token_id`:50256 for open-end generation.\n"
     ]
    },
    {
     "name": "stdout",
     "output_type": "stream",
     "text": [
      "This image shows a typical home for a female cat called Lacey (pictured right)\n",
      "\n",
      "The\n"
     ]
    },
    {
     "name": "stderr",
     "output_type": "stream",
     "text": [
      "Setting `pad_token_id` to `eos_token_id`:50256 for open-end generation.\n"
     ]
    },
    {
     "name": "stdout",
     "output_type": "stream",
     "text": [
      "This image shows a typical home for a female cat (left; Right): the left has a cat\n",
      "This image shows a typical home for a female cat and a male cat sitting together on her stomach.\n"
     ]
    },
    {
     "name": "stderr",
     "output_type": "stream",
     "text": [
      "Setting `pad_token_id` to `eos_token_id`:50256 for open-end generation.\n"
     ]
    },
    {
     "name": "stdout",
     "output_type": "stream",
     "text": [
      "This image shows a typical home for a female cat and a male cat sitting together on her stomach. The image was shot during the 2009 American Zoological\n"
     ]
    },
    {
     "name": "stderr",
     "output_type": "stream",
     "text": [
      "Setting `pad_token_id` to `eos_token_id`:50256 for open-end generation.\n"
     ]
    },
    {
     "name": "stdout",
     "output_type": "stream",
     "text": [
      "This image shows a typical home for a female cat and a male cat sitting together on her stomach. She uses the collar to hold her legs and arms\n"
     ]
    },
    {
     "name": "stderr",
     "output_type": "stream",
     "text": [
      "Setting `pad_token_id` to `eos_token_id`:50256 for open-end generation.\n"
     ]
    },
    {
     "name": "stdout",
     "output_type": "stream",
     "text": [
      "This image shows a typical home for a female cat and a male cat sitting together on her stomach. Both have a red, pink, and white striped\n"
     ]
    }
   ],
   "source": [
    "\n",
    "\n",
    "rounds_per_extension = 10\n",
    "for max_length in range(10, 200, 10):\n",
    "    candidates = []\n",
    "    candidate_scores = []\n",
    "    for i in range(rounds_per_extension):\n",
    "        proposals = gpt2(transcription, max_length=max_length, num_return_sequences=1000)\n",
    "        proposals = [i['generated_text'] for i in proposals]\n",
    "        inputs = clip_processor(text=proposals, images=image, return_tensors=\"pt\", padding=True)\n",
    "        outputs = clip_model(**inputs)\n",
    "        logits_per_image = outputs.logits_per_image[0] # this is the image-text similarity score\n",
    "        scores = logits_per_image.detach().numpy()\n",
    "        candidates += [proposals[np.argmax(scores)]]\n",
    "        candidate_scores += [np.max(scores)]\n",
    "        print(candidates[-1])\n",
    "    transcription = candidates[np.argmax(candidate_scores)]\n",
    "    print(transcription)\n"
   ]
  },
  {
   "cell_type": "code",
   "execution_count": null,
   "id": "e6196ea6-5815-4a33-9273-04877a07032e",
   "metadata": {},
   "outputs": [],
   "source": [
    "probs.detach().numpy().shape"
   ]
  },
  {
   "cell_type": "raw",
   "id": "072e3653-5878-4afa-aacd-21bb3af7e2f7",
   "metadata": {},
   "source": [
    "Ideas: use a bunch of predefined classification results as labels, e.g. use clip to decide [photo, painting, CGI, ...] and feed a few image transcriptions with # Labels: photo, cat, Description: ... as pre-prompt to GPT2.\n",
    "We can (hopefully) steer the model to include certain information "
   ]
  },
  {
   "cell_type": "code",
   "execution_count": null,
   "id": "9368cff0-2e35-4d99-b38d-59d6ec92f2d9",
   "metadata": {},
   "outputs": [],
   "source": []
  }
 ],
 "metadata": {
  "kernelspec": {
   "display_name": "Python 3 (ipykernel)",
   "language": "python",
   "name": "python3"
  },
  "language_info": {
   "codemirror_mode": {
    "name": "ipython",
    "version": 3
   },
   "file_extension": ".py",
   "mimetype": "text/x-python",
   "name": "python",
   "nbconvert_exporter": "python",
   "pygments_lexer": "ipython3",
   "version": "3.8.10"
  }
 },
 "nbformat": 4,
 "nbformat_minor": 5
}
